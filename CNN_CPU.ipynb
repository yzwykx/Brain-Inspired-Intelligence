{
 "cells": [
  {
   "cell_type": "markdown",
   "id": "12d8395b",
   "metadata": {},
   "source": [
    "# 使用单层全连接CNN识别MNIST"
   ]
  },
  {
   "cell_type": "code",
   "execution_count": 1,
   "id": "a33f021f",
   "metadata": {},
   "outputs": [],
   "source": [
    "import os\n",
    "import torch\n",
    "import torch.nn as nn\n",
    "import torch.utils.data as Data\n",
    "import torchvision"
   ]
  },
  {
   "cell_type": "code",
   "execution_count": 2,
   "id": "96a10abc",
   "metadata": {},
   "outputs": [
    {
     "name": "stderr",
     "output_type": "stream",
     "text": [
      "D:\\Anaconda\\lib\\site-packages\\torchvision\\datasets\\mnist.py:80: UserWarning: test_data has been renamed data\n",
      "  warnings.warn(\"test_data has been renamed data\")\n",
      "D:\\Anaconda\\lib\\site-packages\\torchvision\\datasets\\mnist.py:70: UserWarning: test_labels has been renamed targets\n",
      "  warnings.warn(\"test_labels has been renamed targets\")\n"
     ]
    }
   ],
   "source": [
    "EPOCH = 1\n",
    "BATCH_SIZE = 50\n",
    "LR = 0.001\n",
    "\n",
    "train_data = torchvision.datasets.MNIST(\n",
    "    root='./mnist/',\n",
    "    train=True,\n",
    "    transform=torchvision.transforms.ToTensor(),\n",
    "    download=False,\n",
    ")\n",
    "\n",
    "train_loader = Data.DataLoader(dataset=train_data, batch_size=BATCH_SIZE, shuffle=True)\n",
    "\n",
    "test_data = torchvision.datasets.MNIST(root='./mnist/', train=False)\n",
    "test_x = torch.unsqueeze(test_data.test_data, dim=1).type(torch.FloatTensor)/255.   \n",
    "test_y = test_data.test_labels"
   ]
  },
  {
   "cell_type": "code",
   "execution_count": 3,
   "id": "a790de39",
   "metadata": {},
   "outputs": [
    {
     "name": "stdout",
     "output_type": "stream",
     "text": [
      "CNN(\n",
      "  (conv): Sequential(\n",
      "    (0): Conv2d(1, 16, kernel_size=(5, 5), stride=(1, 1), padding=(2, 2))\n",
      "    (1): ReLU()\n",
      "    (2): MaxPool2d(kernel_size=2, stride=2, padding=0, dilation=1, ceil_mode=False)\n",
      "  )\n",
      "  (out): Linear(in_features=3136, out_features=10, bias=True)\n",
      ")\n"
     ]
    }
   ],
   "source": [
    "class CNN(nn.Module):\n",
    "    def __init__(self):\n",
    "        super(CNN, self).__init__()\n",
    "        self.conv = nn.Sequential(\n",
    "            nn.Conv2d(in_channels=1, out_channels=16, kernel_size=5, stride=1, padding=2,),\n",
    "            nn.ReLU(),\n",
    "            nn.MaxPool2d(kernel_size=2),\n",
    "        )\n",
    "\n",
    "        self.out = nn.Linear(16 * 14 * 14, 10)\n",
    "\n",
    "    def forward(self, x):\n",
    "        x = self.conv(x)\n",
    "        x = x.view(x.size(0), -1)\n",
    "        output = self.out(x)\n",
    "        return output, x\n",
    "\n",
    "cnn = CNN()\n",
    "print(cnn)"
   ]
  },
  {
   "cell_type": "code",
   "execution_count": 4,
   "id": "cb83ff74",
   "metadata": {},
   "outputs": [
    {
     "name": "stdout",
     "output_type": "stream",
     "text": [
      "Epoch:  0 | train loss: 2.3166 | test accuracy: 0.13\n",
      "Epoch:  0 | train loss: 0.6115 | test accuracy: 0.86\n",
      "Epoch:  0 | train loss: 0.2769 | test accuracy: 0.89\n",
      "Epoch:  0 | train loss: 0.1437 | test accuracy: 0.92\n",
      "Epoch:  0 | train loss: 0.2921 | test accuracy: 0.92\n",
      "Epoch:  0 | train loss: 0.3752 | test accuracy: 0.94\n",
      "Epoch:  0 | train loss: 0.3252 | test accuracy: 0.94\n",
      "Epoch:  0 | train loss: 0.2362 | test accuracy: 0.95\n",
      "Epoch:  0 | train loss: 0.2158 | test accuracy: 0.95\n",
      "Epoch:  0 | train loss: 0.2290 | test accuracy: 0.95\n",
      "Epoch:  0 | train loss: 0.1188 | test accuracy: 0.95\n",
      "Epoch:  0 | train loss: 0.1814 | test accuracy: 0.96\n",
      "Epoch:  0 | train loss: 0.1865 | test accuracy: 0.96\n",
      "Epoch:  0 | train loss: 0.1142 | test accuracy: 0.96\n",
      "Epoch:  0 | train loss: 0.1541 | test accuracy: 0.97\n",
      "Epoch:  0 | train loss: 0.2218 | test accuracy: 0.97\n",
      "Epoch:  0 | train loss: 0.2075 | test accuracy: 0.97\n",
      "Epoch:  0 | train loss: 0.0808 | test accuracy: 0.97\n",
      "Epoch:  0 | train loss: 0.1553 | test accuracy: 0.97\n",
      "Epoch:  0 | train loss: 0.1512 | test accuracy: 0.97\n",
      "Epoch:  0 | train loss: 0.0717 | test accuracy: 0.97\n",
      "Epoch:  0 | train loss: 0.1207 | test accuracy: 0.97\n",
      "Epoch:  0 | train loss: 0.0392 | test accuracy: 0.97\n",
      "Epoch:  0 | train loss: 0.1331 | test accuracy: 0.97\n"
     ]
    }
   ],
   "source": [
    "optimizer = torch.optim.Adam(cnn.parameters(), lr=LR)\n",
    "loss_func = nn.CrossEntropyLoss()\n",
    "\n",
    "for epoch in range(EPOCH):\n",
    "    for step, (b_x, b_y) in enumerate(train_loader):\n",
    "        output = cnn(b_x)[0]\n",
    "        loss = loss_func(output, b_y)\n",
    "        optimizer.zero_grad()\n",
    "        loss.backward()\n",
    "        optimizer.step()\n",
    "\n",
    "        if step % 50 == 0:\n",
    "            test_output, last_layer = cnn(test_x)\n",
    "            pred_y = torch.max(test_output, 1)[1].data.numpy()\n",
    "            accuracy = float((pred_y == test_y.data.numpy()).astype(int).sum()) / float(test_y.size(0))\n",
    "            print('Epoch: ', epoch, '| train loss: %.4f' % loss.data.numpy(), '| test accuracy: %.2f' % accuracy)"
   ]
  },
  {
   "cell_type": "code",
   "execution_count": 5,
   "id": "650e1875",
   "metadata": {},
   "outputs": [
    {
     "name": "stdout",
     "output_type": "stream",
     "text": [
      "[7 2 1 0 4 1 4 9 5 9 0 6 9 0 1 5 9 7 3 4] prediction number\n",
      "[7 2 1 0 4 1 4 9 5 9 0 6 9 0 1 5 9 7 3 4] real number\n"
     ]
    }
   ],
   "source": [
    "test_output, _ = cnn(test_x[:20])\n",
    "pred_y = torch.max(test_output, 1)[1].data.numpy()\n",
    "print(pred_y, 'prediction number')\n",
    "print(test_y[:20].numpy(), 'real number')"
   ]
  }
 ],
 "metadata": {
  "kernelspec": {
   "display_name": "Python 3 (ipykernel)",
   "language": "python",
   "name": "python3"
  },
  "language_info": {
   "codemirror_mode": {
    "name": "ipython",
    "version": 3
   },
   "file_extension": ".py",
   "mimetype": "text/x-python",
   "name": "python",
   "nbconvert_exporter": "python",
   "pygments_lexer": "ipython3",
   "version": "3.10.9"
  }
 },
 "nbformat": 4,
 "nbformat_minor": 5
}
